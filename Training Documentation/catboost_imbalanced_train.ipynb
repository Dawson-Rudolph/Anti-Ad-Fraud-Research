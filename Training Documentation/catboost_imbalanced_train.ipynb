{
 "cells": [
  {
   "cell_type": "code",
   "execution_count": 2,
   "metadata": {},
   "outputs": [],
   "source": [
    "# Import required libraries\n",
    "import pandas as pd\n",
    "import numpy as np\n",
    "from sklearn.model_selection import train_test_split\n",
    "from sklearn.metrics import classification_report, confusion_matrix, roc_auc_score\n",
    "from catboost import CatBoostClassifier\n",
    "# import training_preprocess\n",
    "\n"
   ]
  },
  {
   "cell_type": "code",
   "execution_count": 3,
   "metadata": {},
   "outputs": [
    {
     "data": {
      "text/html": [
       "<div>\n",
       "<style scoped>\n",
       "    .dataframe tbody tr th:only-of-type {\n",
       "        vertical-align: middle;\n",
       "    }\n",
       "\n",
       "    .dataframe tbody tr th {\n",
       "        vertical-align: top;\n",
       "    }\n",
       "\n",
       "    .dataframe thead th {\n",
       "        text-align: right;\n",
       "    }\n",
       "</style>\n",
       "<table border=\"1\" class=\"dataframe\">\n",
       "  <thead>\n",
       "    <tr style=\"text-align: right;\">\n",
       "      <th></th>\n",
       "      <th>ip</th>\n",
       "      <th>app</th>\n",
       "      <th>device</th>\n",
       "      <th>os</th>\n",
       "      <th>channel</th>\n",
       "      <th>is_attributed</th>\n",
       "      <th>day</th>\n",
       "      <th>hour</th>\n",
       "      <th>minute</th>\n",
       "      <th>second</th>\n",
       "    </tr>\n",
       "  </thead>\n",
       "  <tbody>\n",
       "    <tr>\n",
       "      <th>0</th>\n",
       "      <td>122044</td>\n",
       "      <td>20</td>\n",
       "      <td>1</td>\n",
       "      <td>13</td>\n",
       "      <td>478</td>\n",
       "      <td>0</td>\n",
       "      <td>7</td>\n",
       "      <td>13</td>\n",
       "      <td>51</td>\n",
       "      <td>27</td>\n",
       "    </tr>\n",
       "    <tr>\n",
       "      <th>1</th>\n",
       "      <td>191847</td>\n",
       "      <td>26</td>\n",
       "      <td>1</td>\n",
       "      <td>11</td>\n",
       "      <td>477</td>\n",
       "      <td>0</td>\n",
       "      <td>9</td>\n",
       "      <td>1</td>\n",
       "      <td>10</td>\n",
       "      <td>13</td>\n",
       "    </tr>\n",
       "    <tr>\n",
       "      <th>2</th>\n",
       "      <td>29785</td>\n",
       "      <td>3</td>\n",
       "      <td>1</td>\n",
       "      <td>19</td>\n",
       "      <td>466</td>\n",
       "      <td>0</td>\n",
       "      <td>7</td>\n",
       "      <td>7</td>\n",
       "      <td>10</td>\n",
       "      <td>3</td>\n",
       "    </tr>\n",
       "    <tr>\n",
       "      <th>3</th>\n",
       "      <td>194772</td>\n",
       "      <td>18</td>\n",
       "      <td>1</td>\n",
       "      <td>19</td>\n",
       "      <td>107</td>\n",
       "      <td>0</td>\n",
       "      <td>6</td>\n",
       "      <td>16</td>\n",
       "      <td>28</td>\n",
       "      <td>59</td>\n",
       "    </tr>\n",
       "    <tr>\n",
       "      <th>4</th>\n",
       "      <td>119369</td>\n",
       "      <td>2</td>\n",
       "      <td>1</td>\n",
       "      <td>19</td>\n",
       "      <td>469</td>\n",
       "      <td>0</td>\n",
       "      <td>9</td>\n",
       "      <td>10</td>\n",
       "      <td>12</td>\n",
       "      <td>23</td>\n",
       "    </tr>\n",
       "  </tbody>\n",
       "</table>\n",
       "</div>"
      ],
      "text/plain": [
       "       ip  app  device  os  channel  is_attributed  day  hour  minute  second\n",
       "0  122044   20       1  13      478              0    7    13      51      27\n",
       "1  191847   26       1  11      477              0    9     1      10      13\n",
       "2   29785    3       1  19      466              0    7     7      10       3\n",
       "3  194772   18       1  19      107              0    6    16      28      59\n",
       "4  119369    2       1  19      469              0    9    10      12      23"
      ]
     },
     "execution_count": 3,
     "metadata": {},
     "output_type": "execute_result"
    }
   ],
   "source": [
    "# using the preprocessed data\n",
    "from data_reprocessing import train_to_df\n",
    "train_file = 'new_train.csv'  \n",
    "dataset = train_to_df(train_file)\n",
    "# Display the first few rows of the dataset to verify the preprocessing\n",
    "dataset.head()"
   ]
  },
  {
   "cell_type": "code",
   "execution_count": 4,
   "metadata": {},
   "outputs": [
    {
     "name": "stdout",
     "output_type": "stream",
     "text": [
      "Data split into training and validation sets.\n",
      "Training set shape: (118338489, 9)\n",
      "Validation set shape: (29584623, 9)\n"
     ]
    }
   ],
   "source": [
    "# Split the data into features and target\n",
    "X = dataset.drop('is_attributed', axis=1)\n",
    "y = dataset['is_attributed']\n",
    "\n",
    "# Split the dataset into 80% training and 20% validation\n",
    "X_train, X_val, y_train, y_val = train_test_split(X, y, test_size=0.2, random_state=42, stratify=y)\n",
    "\n",
    "print(\"Data split into training and validation sets.\")\n",
    "print(f\"Training set shape: {X_train.shape}\")\n",
    "print(f\"Validation set shape: {X_val.shape}\")\n"
   ]
  },
  {
   "cell_type": "code",
   "execution_count": 5,
   "metadata": {},
   "outputs": [
    {
     "name": "stdout",
     "output_type": "stream",
     "text": [
      "Starting model training...\n",
      "0:\ttest: 0.5552535\tbest: 0.5552535 (0)\ttotal: 6.22s\tremaining: 1h 43m 36s\n",
      "100:\ttest: 0.9422230\tbest: 0.9422230 (100)\ttotal: 6m 32s\tremaining: 58m 16s\n",
      "200:\ttest: 0.9447417\tbest: 0.9487388 (190)\ttotal: 13m 3s\tremaining: 51m 56s\n",
      "300:\ttest: 0.9545953\tbest: 0.9545953 (300)\ttotal: 19m 34s\tremaining: 45m 28s\n",
      "400:\ttest: 0.9578994\tbest: 0.9578994 (400)\ttotal: 26m 9s\tremaining: 39m 4s\n",
      "500:\ttest: 0.9600230\tbest: 0.9600230 (500)\ttotal: 32m 40s\tremaining: 32m 32s\n",
      "600:\ttest: 0.9612219\tbest: 0.9612219 (600)\ttotal: 39m 11s\tremaining: 26m 1s\n",
      "700:\ttest: 0.9618104\tbest: 0.9618104 (700)\ttotal: 45m 47s\tremaining: 19m 31s\n",
      "800:\ttest: 0.9626756\tbest: 0.9626756 (800)\ttotal: 52m 27s\tremaining: 13m 1s\n",
      "900:\ttest: 0.9633924\tbest: 0.9633928 (899)\ttotal: 59m 2s\tremaining: 6m 29s\n",
      "999:\ttest: 0.9637623\tbest: 0.9637623 (999)\ttotal: 1h 5m 29s\tremaining: 0us\n",
      "\n",
      "bestTest = 0.9637623442\n",
      "bestIteration = 999\n",
      "\n",
      "Model training completed.\n",
      "Model saved as 'catboost_model.json'.\n"
     ]
    }
   ],
   "source": [
    "# Initialize CatBoost Classifier\n",
    "catboost_model = CatBoostClassifier(\n",
    "    iterations=1000,\n",
    "    learning_rate=0.1,\n",
    "    depth=6,\n",
    "    eval_metric='AUC',\n",
    "    random_seed=42,\n",
    "    verbose=100\n",
    ")\n",
    "\n",
    "print(\"Starting model training...\")\n",
    "\n",
    "# Train the CatBoost model\n",
    "catboost_model.fit(X_train, y_train, eval_set=(X_val, y_val), early_stopping_rounds=50)\n",
    "\n",
    "print(\"Model training completed.\")\n",
    "\n",
    "# Save the trained CatBoost model to a JSON file\n",
    "catboost_model.save_model('catboost_model.json', format='json')\n",
    "\n",
    "print(\"Model saved as 'catboost_model.json'.\")\n"
   ]
  }
 ],
 "metadata": {
  "kernelspec": {
   "display_name": "Python 3",
   "language": "python",
   "name": "python3"
  },
  "language_info": {
   "codemirror_mode": {
    "name": "ipython",
    "version": 3
   },
   "file_extension": ".py",
   "mimetype": "text/x-python",
   "name": "python",
   "nbconvert_exporter": "python",
   "pygments_lexer": "ipython3",
   "version": "3.11.9"
  }
 },
 "nbformat": 4,
 "nbformat_minor": 2
}
