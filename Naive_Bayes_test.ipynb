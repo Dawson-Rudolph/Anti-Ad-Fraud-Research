{
 "cells": [
  {
   "cell_type": "markdown",
   "metadata": {},
   "source": [
    "# Fraud Detection Model Evaluation with Gaussian Naive Bayes\n",
    "\n",
    "This notebook evaluates a previously trained Gaussian Naive Bayes model on a test dataset. It includes predictions, evaluation metrics, and visualization of results.\n"
   ]
  },
  {
   "cell_type": "markdown",
   "metadata": {},
   "source": [
    "## 1. Importing Required Libraries\n",
    "This section imports the libraries needed for:\n",
    "- **Data handling**: pandas.\n",
    "- **Model loading**: joblib.\n",
    "- **Evaluation metrics**: accuracy, precision, recall, F1-score, ROC AUC, and confusion matrix.\n",
    "- **Visualization**: matplotlib for plotting.\n"
   ]
  },
  {
   "cell_type": "markdown",
   "metadata": {},
   "source": [
    "## 2. Loading the Trained Naive Bayes Model\n",
    "The saved Gaussian Naive Bayes model (`naive_bayes_model.joblib`) is loaded using `joblib`. The loaded model is ready for predictions on the test dataset.\n"
   ]
  },
  {
   "cell_type": "code",
   "execution_count": null,
   "metadata": {},
   "outputs": [],
   "source": [
    "# Import necessary libraries\n",
    "import pandas as pd\n",
    "import joblib  # For loading the saved model\n",
    "from sklearn.metrics import accuracy_score, precision_score, recall_score, f1_score, roc_auc_score, confusion_matrix, ConfusionMatrixDisplay\n",
    "import matplotlib.pyplot as plt\n",
    "\n",
    "# Load the saved Naive Bayes model from the pickle file\n",
    "model = joblib.load('naive_bayes_model.joblib')\n",
    "print(\"Loaded Naive Bayes model from 'naive_bayes_model.joblib'.\")\n"
   ]
  },
  {
   "cell_type": "markdown",
   "metadata": {},
   "source": [
    "## 3. Loading and Verifying Test Data\n",
    "The preprocessed test dataset is loaded using the `test_to_df` function. The first few rows are displayed to verify the dataset's integrity and structure.\n"
   ]
  },
  {
   "cell_type": "code",
   "execution_count": null,
   "metadata": {},
   "outputs": [],
   "source": [
    "# using the preprocessed data\n",
    "from data_reprocessing import test_to_df\n",
    "dataset = 'new_test.csv'  \n",
    "test_data = test_to_df(dataset)\n",
    "\n",
    "# Display the first few rows of the dataset to verify the preprocessing\n",
    "print(test_data.head())"
   ]
  },
  {
   "cell_type": "markdown",
   "metadata": {},
   "source": [
    "## 4. Preparing the Test Dataset\n",
    "- Features (`X_test`): All columns except the target (`is_attributed`).\n",
    "- Target (`y_test`): True labels indicating fraud (0) or non-fraud (1).\n",
    "- The model generates predictions:\n",
    "  - `y_test_pred_prob`: Probabilities for class 1 (fraudulent).\n",
    "  - `y_test_pred_class`: Binary class predictions based on a 0.5 threshold.\n"
   ]
  },
  {
   "cell_type": "code",
   "execution_count": null,
   "metadata": {},
   "outputs": [],
   "source": [
    "# Separate features and labels from the test data\n",
    "X_test = test_data.drop(columns=['is_attributed'])  # Features\n",
    "y_test = test_data['is_attributed']  # True labels\n",
    "\n",
    "# Make predictions on the test set using the loaded model\n",
    "y_test_pred_prob = model.predict_proba(X_test)[:, 1]  # Probability predictions for class 1\n",
    "y_test_pred_class = model.predict(X_test)  # Binary class predictions"
   ]
  },
  {
   "cell_type": "markdown",
   "metadata": {},
   "source": [
    "## 5. Evaluating Model Performance\n",
    "The following metrics are calculated for the test set:\n",
    "- **Accuracy**: Overall correctness of predictions.\n",
    "- **Precision**: Fraction of correctly predicted fraud cases.\n",
    "- **Recall**: Fraction of actual fraud cases identified.\n",
    "- **F1-Score**: Harmonic mean of precision and recall.\n",
    "- **ROC AUC Score**: Area under the ROC curve, measuring classification effectiveness.\n",
    "Results are displayed for analysis.\n"
   ]
  },
  {
   "cell_type": "code",
   "execution_count": null,
   "metadata": {},
   "outputs": [],
   "source": [
    "# Calculate performance metrics on the test set\n",
    "accuracy = accuracy_score(y_test, y_test_pred_class)\n",
    "precision = precision_score(y_test, y_test_pred_class, pos_label=0)  # 0 = fraudulent\n",
    "recall = recall_score(y_test, y_test_pred_class, pos_label=0)  # 0 = fraudulent\n",
    "f1 = f1_score(y_test, y_test_pred_class, pos_label=0)  # 0 = fraudulent\n",
    "auc_roc = roc_auc_score(y_test, y_test_pred_prob)\n",
    "\n",
    "# Display evaluation results\n",
    "print(f\"Test Set Accuracy: {accuracy:.4f}\")\n",
    "print(f\"Test Set Precision (fraud detection): {precision:.4f}\")\n",
    "print(f\"Test Set Recall (fraud detection): {recall:.4f}\")\n",
    "print(f\"Test Set F1-Score (fraud detection): {f1:.4f}\")\n",
    "print(f\"Test Set AUC-ROC: {auc_roc:.4f}\")\n"
   ]
  },
  {
   "cell_type": "markdown",
   "metadata": {},
   "source": [
    "## 6. Visualizing Confusion Matrix\n",
    "- The confusion matrix shows:\n",
    "  - True Positives (TP), False Positives (FP), True Negatives (TN), and False Negatives (FN).\n",
    "- A heatmap is displayed for intuitive visualization, with labels for fraud (0) and non-fraud (1).\n"
   ]
  },
  {
   "cell_type": "code",
   "execution_count": null,
   "metadata": {},
   "outputs": [],
   "source": [
    "# Calculate the confusion matrix\n",
    "cm = confusion_matrix(y_test, y_test_pred_class)\n",
    "\n",
    "# Plot the confusion matrix\n",
    "disp = ConfusionMatrixDisplay(confusion_matrix=cm, display_labels=['Fraud (0)', 'Non-Fraud (1)'])\n",
    "disp.plot(cmap='Blues')\n",
    "plt.title('Confusion Matrix on Test Set')\n",
    "plt.show()\n"
   ]
  },
  {
   "cell_type": "markdown",
   "metadata": {},
   "source": [
    "## Conclusion\n",
    "This notebook demonstrates evaluating a Gaussian Naive Bayes model for fraud detection. It calculates key performance metrics and visualizes results, providing insights into the model's effectiveness on unseen data.\n"
   ]
  }
 ],
 "metadata": {
  "kernelspec": {
   "display_name": "base",
   "language": "python",
   "name": "python3"
  },
  "language_info": {
   "codemirror_mode": {
    "name": "ipython",
    "version": 3
   },
   "file_extension": ".py",
   "mimetype": "text/x-python",
   "name": "python",
   "nbconvert_exporter": "python",
   "pygments_lexer": "ipython3",
   "version": "3.12.4"
  }
 },
 "nbformat": 4,
 "nbformat_minor": 2
}
