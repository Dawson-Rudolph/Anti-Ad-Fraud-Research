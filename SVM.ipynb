{
 "cells": [
  {
   "cell_type": "code",
   "execution_count": null,
   "metadata": {},
   "outputs": [],
   "source": [
    "# Import required libraries\n",
    "import pandas as pd\n",
    "import numpy as np\n",
    "from sklearn.model_selection import train_test_split\n",
    "from sklearn.svm import SVC\n",
    "from sklearn.metrics import classification_report, confusion_matrix, roc_auc_score\n",
    "import joblib # Import joblib for saving the model\n",
    "\n",
    "\n",
    "# Import preprocessed data\n",
    "from data_reprocessing import train_to_df\n",
    "\n",
    "# Load the preprocessed data\n",
    "train_file = 'new_train.csv'  \n",
    "dataset = train_to_df(train_file)\n",
    "\n",
    "# Display the first few rows of the dataset to verify the preprocessing\n",
    "display(dataset.head())\n"
   ]
  },
  {
   "cell_type": "code",
   "execution_count": null,
   "metadata": {},
   "outputs": [],
   "source": [
    "# Split the data into features and target\n",
    "X = dataset.drop('is_attributed', axis=1)  # Features\n",
    "y = dataset['is_attributed']  # Target variable\n",
    "\n",
    "# Split the dataset into training and validation sets (80% training, 20% validation)\n",
    "X_train, X_val, y_train, y_val = train_test_split(X, y, test_size=0.2, random_state=42, stratify=y)\n",
    "\n",
    "# Display the shape of training and validation sets\n",
    "print(\"Data split into training and validation sets.\")\n",
    "print(f\"Training set shape: {X_train.shape}\")\n",
    "print(f\"Validation set shape: {X_val.shape}\")\n"
   ]
  },
  {
   "cell_type": "code",
   "execution_count": null,
   "metadata": {},
   "outputs": [],
   "source": [
    "# Initialize the SVM model\n",
    "svm_model = SVC(\n",
    "    C=1.0,  # Regularization parameter\n",
    "    kernel='rbf',  # Radial Basis Function kernel\n",
    "    gamma='scale',  # Kernel coefficient\n",
    "    probability=True,  # Enables probability estimates for ROC AUC calculation\n",
    "    random_state=42\n",
    ")\n",
    "\n",
    "print(\"Starting model training...\")\n",
    "\n",
    "# Train the SVM model\n",
    "svm_model.fit(X_train, y_train)\n",
    "\n",
    "print(\"Model training completed.\")\n"
   ]
  },
  {
   "cell_type": "code",
   "execution_count": null,
   "metadata": {},
   "outputs": [],
   "source": [
    "# Make predictions on the validation set\n",
    "y_pred = svm_model.predict(X_val)\n",
    "y_pred_proba = svm_model.predict_proba(X_val)[:, 1]  # Probability estimates for ROC AUC\n",
    "\n",
    "# Evaluate model performance\n",
    "print(\"\\nConfusion Matrix:\")\n",
    "print(confusion_matrix(y_val, y_pred))\n",
    "\n",
    "print(\"\\nClassification Report:\")\n",
    "print(classification_report(y_val, y_pred))\n",
    "\n",
    "# Calculate and display the ROC AUC score\n",
    "roc_auc = roc_auc_score(y_val, y_pred_proba)\n",
    "print(f\"\\nROC AUC Score: {roc_auc:.2f}\")\n"
   ]
  },
  {
   "cell_type": "code",
   "execution_count": null,
   "metadata": {},
   "outputs": [],
   "source": [
    "# Save the trained model using joblib\n",
    "joblib.dump(svm_model, 'svm_model.joblib')\n",
    "print(\"Trained model saved as 'svm_model.joblib'.\")"
   ]
  },
  {
   "cell_type": "code",
   "execution_count": null,
   "metadata": {},
   "outputs": [],
   "source": [
    "# Import additional libraries for ROC curve\n",
    "from sklearn.metrics import roc_curve, auc\n",
    "import matplotlib.pyplot as plt\n",
    "\n",
    "# Calculate the ROC curve\n",
    "fpr, tpr, thresholds = roc_curve(y_val, y_pred_proba)  # Calculate False Positive Rate, True Positive Rate\n",
    "roc_auc = auc(fpr, tpr)  # Calculate AUC score\n",
    "\n",
    "# Plot the ROC curve\n",
    "plt.figure()\n",
    "plt.plot(fpr, tpr, color='darkorange', lw=2, label=f'ROC curve (area = {roc_auc:.2f})')\n",
    "plt.plot([0, 1], [0, 1], color='navy', lw=2, linestyle='--')\n",
    "plt.xlabel('False Positive Rate')\n",
    "plt.ylabel('True Positive Rate')\n",
    "plt.title('Receiver Operating Characteristic (ROC) for SVM')\n",
    "plt.legend(loc='lower right')\n",
    "plt.show()\n"
   ]
  }
 ],
 "metadata": {
  "kernelspec": {
   "display_name": "base",
   "language": "python",
   "name": "python3"
  },
  "language_info": {
   "codemirror_mode": {
    "name": "ipython",
    "version": 3
   },
   "file_extension": ".py",
   "mimetype": "text/x-python",
   "name": "python",
   "nbconvert_exporter": "python",
   "pygments_lexer": "ipython3",
   "version": "3.12.4"
  }
 },
 "nbformat": 4,
 "nbformat_minor": 2
}
