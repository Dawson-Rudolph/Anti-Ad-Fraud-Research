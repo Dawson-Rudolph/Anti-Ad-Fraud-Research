{
 "cells": [
  {
   "cell_type": "code",
   "execution_count": 1,
   "metadata": {},
   "outputs": [],
   "source": [
    "# Import required libraries\n",
    "import pandas as pd\n",
    "import numpy as np\n",
    "from sklearn.model_selection import train_test_split\n",
    "from sklearn.metrics import classification_report, confusion_matrix, roc_auc_score\n",
    "from catboost import CatBoostClassifier\n",
    "# import training_preprocess\n",
    "\n"
   ]
  },
  {
   "cell_type": "code",
   "execution_count": 2,
   "metadata": {},
   "outputs": [
    {
     "data": {
      "text/html": [
       "<div>\n",
       "<style scoped>\n",
       "    .dataframe tbody tr th:only-of-type {\n",
       "        vertical-align: middle;\n",
       "    }\n",
       "\n",
       "    .dataframe tbody tr th {\n",
       "        vertical-align: top;\n",
       "    }\n",
       "\n",
       "    .dataframe thead th {\n",
       "        text-align: right;\n",
       "    }\n",
       "</style>\n",
       "<table border=\"1\" class=\"dataframe\">\n",
       "  <thead>\n",
       "    <tr style=\"text-align: right;\">\n",
       "      <th></th>\n",
       "      <th>ip</th>\n",
       "      <th>app</th>\n",
       "      <th>device</th>\n",
       "      <th>os</th>\n",
       "      <th>channel</th>\n",
       "      <th>is_attributed</th>\n",
       "      <th>day</th>\n",
       "      <th>hour</th>\n",
       "      <th>minute</th>\n",
       "      <th>second</th>\n",
       "    </tr>\n",
       "  </thead>\n",
       "  <tbody>\n",
       "    <tr>\n",
       "      <th>0</th>\n",
       "      <td>50512</td>\n",
       "      <td>15</td>\n",
       "      <td>1</td>\n",
       "      <td>19</td>\n",
       "      <td>245</td>\n",
       "      <td>0</td>\n",
       "      <td>8</td>\n",
       "      <td>21</td>\n",
       "      <td>16</td>\n",
       "      <td>35</td>\n",
       "    </tr>\n",
       "    <tr>\n",
       "      <th>1</th>\n",
       "      <td>80510</td>\n",
       "      <td>3</td>\n",
       "      <td>1</td>\n",
       "      <td>25</td>\n",
       "      <td>489</td>\n",
       "      <td>0</td>\n",
       "      <td>9</td>\n",
       "      <td>5</td>\n",
       "      <td>24</td>\n",
       "      <td>16</td>\n",
       "    </tr>\n",
       "    <tr>\n",
       "      <th>2</th>\n",
       "      <td>1768</td>\n",
       "      <td>1</td>\n",
       "      <td>1</td>\n",
       "      <td>19</td>\n",
       "      <td>439</td>\n",
       "      <td>0</td>\n",
       "      <td>8</td>\n",
       "      <td>13</td>\n",
       "      <td>46</td>\n",
       "      <td>1</td>\n",
       "    </tr>\n",
       "    <tr>\n",
       "      <th>3</th>\n",
       "      <td>30587</td>\n",
       "      <td>15</td>\n",
       "      <td>1</td>\n",
       "      <td>31</td>\n",
       "      <td>386</td>\n",
       "      <td>0</td>\n",
       "      <td>6</td>\n",
       "      <td>18</td>\n",
       "      <td>19</td>\n",
       "      <td>13</td>\n",
       "    </tr>\n",
       "    <tr>\n",
       "      <th>4</th>\n",
       "      <td>73487</td>\n",
       "      <td>3</td>\n",
       "      <td>1</td>\n",
       "      <td>8</td>\n",
       "      <td>153</td>\n",
       "      <td>0</td>\n",
       "      <td>8</td>\n",
       "      <td>3</td>\n",
       "      <td>44</td>\n",
       "      <td>35</td>\n",
       "    </tr>\n",
       "  </tbody>\n",
       "</table>\n",
       "</div>"
      ],
      "text/plain": [
       "      ip  app  device  os  channel  is_attributed  day  hour  minute  second\n",
       "0  50512   15       1  19      245              0    8    21      16      35\n",
       "1  80510    3       1  25      489              0    9     5      24      16\n",
       "2   1768    1       1  19      439              0    8    13      46       1\n",
       "3  30587   15       1  31      386              0    6    18      19      13\n",
       "4  73487    3       1   8      153              0    8     3      44      35"
      ]
     },
     "execution_count": 2,
     "metadata": {},
     "output_type": "execute_result"
    }
   ],
   "source": [
    "# using the preprocessed data\n",
    "from data_reprocessing import train_to_df\n",
    "train_file = 'balanced_train.csv'  \n",
    "dataset = train_to_df(train_file)\n",
    "# Display the first few rows of the dataset to verify the preprocessing\n",
    "dataset.head()"
   ]
  },
  {
   "cell_type": "code",
   "execution_count": 3,
   "metadata": {},
   "outputs": [
    {
     "name": "stdout",
     "output_type": "stream",
     "text": [
      "Data split into training and validation sets.\n",
      "Training set shape: (1355291, 9)\n",
      "Validation set shape: (338823, 9)\n"
     ]
    }
   ],
   "source": [
    "# Split the data into features and target\n",
    "X = dataset.drop('is_attributed', axis=1)\n",
    "y = dataset['is_attributed']\n",
    "\n",
    "# Split the dataset into 80% training and 20% validation\n",
    "X_train, X_val, y_train, y_val = train_test_split(X, y, test_size=0.2, random_state=42, stratify=y)\n",
    "\n",
    "print(\"Data split into training and validation sets.\")\n",
    "print(f\"Training set shape: {X_train.shape}\")\n",
    "print(f\"Validation set shape: {X_val.shape}\")\n"
   ]
  },
  {
   "cell_type": "code",
   "execution_count": 4,
   "metadata": {},
   "outputs": [
    {
     "name": "stdout",
     "output_type": "stream",
     "text": [
      "Starting model training...\n",
      "0:\ttest: 0.9153186\tbest: 0.9153186 (0)\ttotal: 213ms\tremaining: 3m 33s\n",
      "100:\ttest: 0.9641275\tbest: 0.9641275 (100)\ttotal: 5.01s\tremaining: 44.6s\n",
      "200:\ttest: 0.9671435\tbest: 0.9671435 (200)\ttotal: 9.71s\tremaining: 38.6s\n",
      "300:\ttest: 0.9684705\tbest: 0.9684705 (300)\ttotal: 14.4s\tremaining: 33.5s\n",
      "400:\ttest: 0.9692446\tbest: 0.9692446 (400)\ttotal: 19.1s\tremaining: 28.5s\n",
      "500:\ttest: 0.9698688\tbest: 0.9698688 (500)\ttotal: 23.6s\tremaining: 23.5s\n",
      "600:\ttest: 0.9702690\tbest: 0.9702690 (600)\ttotal: 28.2s\tremaining: 18.7s\n",
      "700:\ttest: 0.9705101\tbest: 0.9705101 (699)\ttotal: 32.8s\tremaining: 14s\n",
      "800:\ttest: 0.9708061\tbest: 0.9708061 (800)\ttotal: 37.4s\tremaining: 9.28s\n",
      "900:\ttest: 0.9709735\tbest: 0.9709735 (900)\ttotal: 41.9s\tremaining: 4.6s\n",
      "999:\ttest: 0.9711054\tbest: 0.9711054 (999)\ttotal: 46.5s\tremaining: 0us\n",
      "\n",
      "bestTest = 0.9711054185\n",
      "bestIteration = 999\n",
      "\n",
      "Model training completed.\n",
      "Model saved as 'catboost_balanced_model.json'.\n"
     ]
    }
   ],
   "source": [
    "# Initialize CatBoost Classifier\n",
    "catboost_model = CatBoostClassifier(\n",
    "    iterations=1000,\n",
    "    learning_rate=0.1,\n",
    "    depth=6,\n",
    "    eval_metric='AUC',\n",
    "    random_seed=42,\n",
    "    verbose=100\n",
    ")\n",
    "\n",
    "print(\"Starting model training...\")\n",
    "\n",
    "# Train the CatBoost model\n",
    "catboost_model.fit(X_train, y_train, eval_set=(X_val, y_val), early_stopping_rounds=50)\n",
    "\n",
    "print(\"Model training completed.\")\n",
    "\n",
    "# Save the trained CatBoost model to a JSON file\n",
    "catboost_model.save_model('catboost_balanced_model.json', format='json')\n",
    "\n",
    "print(\"Model saved as 'catboost_balanced_model.json'.\")\n"
   ]
  }
 ],
 "metadata": {
  "kernelspec": {
   "display_name": "Python 3",
   "language": "python",
   "name": "python3"
  },
  "language_info": {
   "codemirror_mode": {
    "name": "ipython",
    "version": 3
   },
   "file_extension": ".py",
   "mimetype": "text/x-python",
   "name": "python",
   "nbconvert_exporter": "python",
   "pygments_lexer": "ipython3",
   "version": "3.11.9"
  }
 },
 "nbformat": 4,
 "nbformat_minor": 2
}
