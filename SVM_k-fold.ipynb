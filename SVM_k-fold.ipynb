{
 "cells": [
  {
   "cell_type": "code",
   "execution_count": null,
   "metadata": {},
   "outputs": [],
   "source": [
    "# Import required libraries\n",
    "import pandas as pd\n",
    "import numpy as np\n",
    "from sklearn.model_selection import StratifiedKFold, train_test_split\n",
    "from sklearn.svm import SVC\n",
    "from sklearn.metrics import classification_report, confusion_matrix, roc_auc_score , roc_curve, auc\n",
    "import matplotlib.pyplot as plt\n",
    "import joblib\n",
    "\n",
    "\n",
    "# Load the preprocessed data\n",
    "from data_reprocessing import train_to_df\n",
    "train_file = 'new_train.csv'  \n",
    "dataset = train_to_df(train_file)\n",
    "\n",
    "# Display the first few rows of the dataset to verify the preprocessing\n",
    "display(dataset.head())\n",
    "\n",
    "# Split the data into features and target\n",
    "X = dataset.drop('is_attributed', axis=1)  # Features\n",
    "y = dataset['is_attributed']  # Target variable\n"
   ]
  },
  {
   "cell_type": "code",
   "execution_count": null,
   "metadata": {},
   "outputs": [],
   "source": [
    "# Outer 80/20 Split\n",
    "X_train, X_val, y_train, y_val = train_test_split(X, y, test_size=0.2, random_state=42, stratify=y)\n",
    "\n",
    "# Display the shape of training and validation sets\n",
    "print(\"Data split into 80% training and 20% validation.\")\n",
    "print(f\"Training set shape: {X_train.shape}\")\n",
    "print(f\"Validation set shape: {X_val.shape}\")\n"
   ]
  },
  {
   "cell_type": "code",
   "execution_count": null,
   "metadata": {},
   "outputs": [],
   "source": [
    "# Set number of folds based on results of the ROC Cross-Validation on 80% training data\n",
    "n_splits = 5  # Number of folds\n",
    "skf = StratifiedKFold(n_splits=n_splits, shuffle=True, random_state=42)\n",
    "\n",
    "# Initialize the SVM model with desired parameters\n",
    "svm_model = SVC(\n",
    "    C=1.0,  # Regularization parameter\n",
    "    kernel='rbf',  # Radial Basis Function kernel\n",
    "    gamma='scale',  # Kernel coefficient\n",
    "    probability=True,  # Enables probability estimates for ROC AUC calculation\n",
    "    random_state=42\n",
    ")\n",
    "\n",
    "print(\"SVM model initialized.\")\n"
   ]
  },
  {
   "cell_type": "code",
   "execution_count": null,
   "metadata": {},
   "outputs": [],
   "source": [
    "# Track cross-validation results\n",
    "roc_auc_scores = []  # To store AUC-ROC scores for each fold\n",
    "\n",
    "print(f\"Stratified K-Fold Cross-Validation set up with {n_splits} folds.\")\n"
   ]
  },
  {
   "cell_type": "code",
   "execution_count": null,
   "metadata": {},
   "outputs": [],
   "source": [
    "# Start cross-validation\n",
    "print(\"Starting Stratified K-Fold Cross-Validation...\")\n",
    "for fold, (train_index, val_index) in enumerate(skf.split(X, y), 1):\n",
    "    # Split the data into training and validation sets for the current fold\n",
    "    X_train, X_val = X.iloc[train_index], X.iloc[val_index]\n",
    "    y_train, y_val = y.iloc[train_index], y.iloc[val_index]\n",
    "\n",
    "    # Train the SVM model\n",
    "    svm_model.fit(X_train, y_train)\n",
    "\n",
    "    # Make predictions on the validation set\n",
    "    y_pred = svm_model.predict(X_val)\n",
    "    y_pred_proba = svm_model.predict_proba(X_val)[:, 1]  # Probability estimates for ROC AUC\n",
    "\n",
    "    # Calculate ROC-AUC for the current fold\n",
    "    roc_auc = roc_auc_score(y_val, y_pred_proba)\n",
    "    roc_auc_scores.append(roc_auc)\n",
    "\n",
    "    # Print performance for the current fold\n",
    "    print(f\"\\nFold {fold} - ROC AUC Score: {roc_auc:.2f}\")\n",
    "    print(\"Confusion Matrix:\")\n",
    "    print(confusion_matrix(y_val, y_pred))\n",
    "    print(\"\\nClassification Report:\")\n",
    "    print(classification_report(y_val, y_pred))\n",
    "\n",
    "print(\"\\nCross-Validation completed.\")\n"
   ]
  },
  {
   "cell_type": "code",
   "execution_count": null,
   "metadata": {},
   "outputs": [],
   "source": [
    "# Calculate the average ROC-AUC across folds\n",
    "mean_roc_auc = np.mean(roc_auc_scores)\n",
    "std_roc_auc = np.std(roc_auc_scores)\n",
    "\n",
    "print(f\"\\nAverage ROC AUC Score across folds: {mean_roc_auc:.2f} ± {std_roc_auc:.2f}\")\n"
   ]
  },
  {
   "cell_type": "code",
   "execution_count": null,
   "metadata": {},
   "outputs": [],
   "source": [
    "# Save the final model after cross-validation (trained on the last fold)\n",
    "joblib.dump(svm_model, 'svm_model.joblib')\n",
    "print(\"Trained model saved as 'svm_model.joblib'.\")\n"
   ]
  },
  {
   "cell_type": "code",
   "execution_count": null,
   "metadata": {},
   "outputs": [],
   "source": [
    "# Calculate ROC curve for the last fold\n",
    "fpr, tpr, thresholds = roc_curve(y_val, y_pred_proba)\n",
    "roc_auc = auc(fpr, tpr)\n",
    "\n",
    "# Plot the ROC curve\n",
    "plt.figure()\n",
    "plt.plot(fpr, tpr, color='darkorange', lw=2, label=f'ROC curve (area = {roc_auc:.2f})')\n",
    "plt.plot([0, 1], [0, 1], color='navy', lw=2, linestyle='--')\n",
    "plt.xlabel('False Positive Rate')\n",
    "plt.ylabel('True Positive Rate')\n",
    "plt.title('Receiver Operating Characteristic (ROC) for SVM (Last Fold)')\n",
    "plt.legend(loc='lower right')\n",
    "plt.show()\n"
   ]
  }
 ],
 "metadata": {
  "kernelspec": {
   "display_name": "base",
   "language": "python",
   "name": "python3"
  },
  "language_info": {
   "codemirror_mode": {
    "name": "ipython",
    "version": 3
   },
   "file_extension": ".py",
   "mimetype": "text/x-python",
   "name": "python",
   "nbconvert_exporter": "python",
   "pygments_lexer": "ipython3",
   "version": "3.12.4"
  }
 },
 "nbformat": 4,
 "nbformat_minor": 2
}
