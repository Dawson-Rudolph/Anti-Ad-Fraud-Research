{
 "cells": [
  {
   "cell_type": "code",
   "execution_count": null,
   "metadata": {},
   "outputs": [],
   "source": [
    "# Import required libraries\n",
    "import pandas as pd\n",
    "import numpy as np\n",
    "from sklearn.model_selection import train_test_split\n",
    "from sklearn.naive_bayes import GaussianNB\n",
    "from sklearn.metrics import classification_report, confusion_matrix, roc_auc_score, roc_curve\n",
    "import matplotlib.pyplot as plt\n",
    "import joblib  # For saving the model\n"
   ]
  },
  {
   "cell_type": "code",
   "execution_count": null,
   "metadata": {},
   "outputs": [],
   "source": [
    "# using the preprocessed data\n",
    "from data_reprocessing import train_to_df\n",
    "\n",
    "train_file = 'balanced_train.csv'  \n",
    "dataset = train_to_df(train_file)\n",
    "# Display the first few rows of the dataset to verify the preprocessing\n",
    "dataset.head()"
   ]
  },
  {
   "cell_type": "code",
   "execution_count": null,
   "metadata": {},
   "outputs": [],
   "source": [
    "# Count and display the class distribution for fraud detection\n",
    "fraud_counts = dataset['is_attributed'].value_counts()\n",
    "print(f\"Fraudulent clicks: {fraud_counts[1]}\")\n",
    "print(f\"Non-fraudulent clicks: {fraud_counts[0]}\")\n",
    "\n",
    "# Split the dataset into features (X) and target (y)\n",
    "X = dataset.drop('is_attributed', axis=1)  # Features\n",
    "y = dataset['is_attributed']  # Target variable\n",
    "\n",
    "# Split the data into training and validation sets (80% training, 20% validation)\n",
    "X_train, X_val, y_train, y_val = train_test_split(X, y, test_size=0.2, random_state=42, stratify=y)\n",
    "\n",
    "# Display the shape of the training and validation sets\n",
    "print(f\"Training set shape: {X_train.shape}\")\n",
    "print(f\"Validation set shape: {X_val.shape}\")\n"
   ]
  },
  {
   "cell_type": "code",
   "execution_count": null,
   "metadata": {},
   "outputs": [],
   "source": [
    "# Initialize the Gaussian Naive Bayes model\n",
    "nb_model = GaussianNB()\n",
    "\n",
    "print(\"Starting model training...\")\n",
    "\n",
    "# Train the Naive Bayes model\n",
    "nb_model.fit(X_train, y_train)\n",
    "\n",
    "print(\"Model training completed.\")\n"
   ]
  },
  {
   "cell_type": "code",
   "execution_count": null,
   "metadata": {},
   "outputs": [],
   "source": [
    "# Save the entire trained model to a file using joblib\n",
    "joblib.dump(nb_model, 'naive_bayes_model.joblib')\n",
    "\n",
    "print(\"Complete model saved as 'naive_bayes_model.joblib'.\")\n"
   ]
  },
  {
   "cell_type": "code",
   "execution_count": null,
   "metadata": {},
   "outputs": [],
   "source": [
    "# Make predictions on the validation set\n",
    "y_pred = nb_model.predict(X_val)  # Predicted labels\n",
    "y_pred_proba = nb_model.predict_proba(X_val)[:, 1]  # Predicted probabilities for the positive class\n",
    "\n",
    "# Evaluate model performance\n",
    "print(\"\\nConfusion Matrix:\")\n",
    "print(confusion_matrix(y_val, y_pred))\n",
    "\n",
    "print(\"\\nClassification Report:\")\n",
    "print(classification_report(y_val, y_pred))\n",
    "\n",
    "# Calculate and display the ROC AUC score\n",
    "roc_auc = roc_auc_score(y_val, y_pred_proba)\n",
    "print(f\"\\nROC AUC Score: {roc_auc:.2f}\")\n"
   ]
  }
 ],
 "metadata": {
  "kernelspec": {
   "display_name": "base",
   "language": "python",
   "name": "python3"
  },
  "language_info": {
   "codemirror_mode": {
    "name": "ipython",
    "version": 3
   },
   "file_extension": ".py",
   "mimetype": "text/x-python",
   "name": "python",
   "nbconvert_exporter": "python",
   "pygments_lexer": "ipython3",
   "version": "3.12.4"
  }
 },
 "nbformat": 4,
 "nbformat_minor": 2
}
