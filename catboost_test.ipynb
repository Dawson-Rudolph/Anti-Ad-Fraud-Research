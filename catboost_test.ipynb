{
 "cells": [
  {
   "cell_type": "markdown",
   "metadata": {},
   "source": [
    "# Fraud Detection Model Evaluation with CatBoost\n",
    "\n",
    "This notebook evaluates a previously trained CatBoost model using test data. It includes generating predictions, calculating evaluation metrics, and visualizing the confusion matrix for performance analysis.\n"
   ]
  },
  {
   "cell_type": "markdown",
   "metadata": {},
   "source": [
    "## 1. Importing Necessary Libraries\n",
    "Libraries used in this notebook:\n",
    "- **pandas**: For data manipulation.\n",
    "- **CatBoostClassifier**: For loading the trained CatBoost model.\n",
    "- **scikit-learn metrics**: For evaluation metrics such as accuracy, precision, recall, F1-score, ROC AUC score, and confusion matrix.\n",
    "- **matplotlib**: For plotting visualizations (e.g., confusion matrix).\n"
   ]
  },
  {
   "cell_type": "markdown",
   "metadata": {},
   "source": [
    "## 2. Loading the Trained CatBoost Model\n",
    "The trained CatBoost model is loaded from the JSON file (`catboost_model.json`) for evaluation on the test dataset.\n"
   ]
  },
  {
   "cell_type": "code",
   "execution_count": null,
   "metadata": {},
   "outputs": [],
   "source": [
    "#Import Necessary Libraries\n",
    "import pandas as pd\n",
    "from catboost import CatBoostClassifier\n",
    "from testing_preprocessing import dataset  # Assuming the test preprocessing script is named this way\n",
    "from sklearn.metrics import accuracy_score, precision_score, recall_score, f1_score, roc_auc_score, confusion_matrix, ConfusionMatrixDisplay\n",
    "import matplotlib.pyplot as plt\n",
    "\n",
    "# Load the saved CatBoost model from JSON file\n",
    "model = CatBoostClassifier()\n",
    "model.load_model('catboost_model.json', format='json')\n",
    "print(\"Loaded CatBoost model from 'catboost_model.json'.\")"
   ]
  },
  {
   "cell_type": "markdown",
   "metadata": {},
   "source": [
    "## 3. Loading and Verifying Test Data\n",
    "The preprocessed test dataset is loaded using the `test_to_df` function, and the first few rows are displayed to confirm the dataset structure and correctness.\n"
   ]
  },
  {
   "cell_type": "code",
   "execution_count": null,
   "metadata": {},
   "outputs": [],
   "source": [
    "# using the preprocessed data\n",
    "from data_reprocessing import test_to_df\n",
    "dataset = 'new_test.csv'  \n",
    "test_data = test_to_df(dataset)\n",
    "\n",
    "# Display the first few rows of the dataset to verify the preprocessing\n",
    "print(test_data.head())"
   ]
  },
  {
   "cell_type": "markdown",
   "metadata": {},
   "source": [
    "## 4. Preparing Test Data\n",
    "- **Features (`X_test`)**: All columns except the target (`is_attributed`).\n",
    "- **Target (`y_test`)**: True labels indicating fraudulent (0) or non-fraudulent (1) clicks.\n",
    "Predictions:\n",
    "- **`y_test_pred_prob`**: Predicted probabilities for the positive class (fraudulent clicks).\n",
    "- **`y_test_pred_class`**: Binary predictions based on a 0.5 threshold.\n"
   ]
  },
  {
   "cell_type": "code",
   "execution_count": 3,
   "metadata": {},
   "outputs": [],
   "source": [
    "# Separate features and labels from the test data\n",
    "X_test = test_data.drop(columns=['is_attributed'])  # Features\n",
    "y_test = test_data['is_attributed']  # True labels\n",
    "\n",
    "# Make predictions on the test set using the loaded model\n",
    "y_test_pred_prob = model.predict_proba(X_test)[:, 1]\n",
    "\n",
    "# Convert probabilities to binary class predictions (0 = fraudulent, 1 = non-fraudulent)\n",
    "y_test_pred_class = (y_test_pred_prob > 0.5).astype(int)\n"
   ]
  },
  {
   "cell_type": "markdown",
   "metadata": {},
   "source": [
    "## 5. Calculating Performance Metrics\n",
    "The model's performance is evaluated using the following metrics:\n",
    "- **Accuracy**: The fraction of correct predictions.\n",
    "- **Precision**: The fraction of correctly predicted fraudulent clicks.\n",
    "- **Recall**: The fraction of actual fraudulent clicks identified.\n",
    "- **F1-Score**: Harmonic mean of precision and recall.\n",
    "- **ROC AUC Score**: Measures the effectiveness of the classifier.\n",
    "Evaluation results are displayed for analysis.\n"
   ]
  },
  {
   "cell_type": "code",
   "execution_count": null,
   "metadata": {},
   "outputs": [],
   "source": [
    "# Calculate performance metrics on the test set\n",
    "accuracy = accuracy_score(y_test, y_test_pred_class)\n",
    "precision = precision_score(y_test, y_test_pred_class, pos_label=0)  # 0 = fraudulent\n",
    "recall = recall_score(y_test, y_test_pred_class, pos_label=0)  # 0 = fraudulent\n",
    "f1 = f1_score(y_test, y_test_pred_class, pos_label=0)  # 0 = fraudulent\n",
    "auc_roc = roc_auc_score(y_test, y_test_pred_prob)\n",
    "\n",
    "# Display evaluation results\n",
    "print(f\"Test Set Accuracy: {accuracy:.4f}\")\n",
    "print(f\"Test Set Precision (fraud detection): {precision:.4f}\")\n",
    "print(f\"Test Set Recall (fraud detection): {recall:.4f}\")\n",
    "print(f\"Test Set F1-Score (fraud detection): {f1:.4f}\")\n",
    "print(f\"Test Set AUC-ROC: {auc_roc:.4f}\")\n"
   ]
  },
  {
   "cell_type": "markdown",
   "metadata": {},
   "source": [
    "## 6. Visualizing the Confusion Matrix\n",
    "- The confusion matrix illustrates:\n",
    "  - True Positives (TP)\n",
    "  - False Positives (FP)\n",
    "  - True Negatives (TN)\n",
    "  - False Negatives (FN)\n",
    "- The matrix is visualized as a heatmap with labels for fraud (0) and non-fraud (1) to provide insights into the model's classification performance.\n"
   ]
  },
  {
   "cell_type": "code",
   "execution_count": null,
   "metadata": {},
   "outputs": [],
   "source": [
    "# Calculate the confusion matrix\n",
    "cm = confusion_matrix(y_test, y_test_pred_class)\n",
    "\n",
    "# Plot the confusion matrix\n",
    "disp = ConfusionMatrixDisplay(confusion_matrix=cm, display_labels=['Fraud (0)', 'Non-Fraud (1)'])\n",
    "disp.plot(cmap='Blues')\n",
    "plt.title('Confusion Matrix on Test Set')\n",
    "plt.show()"
   ]
  },
  {
   "cell_type": "markdown",
   "metadata": {},
   "source": [
    "## Conclusion\n",
    "This notebook successfully evaluates a trained CatBoost model for fraud detection using key performance metrics and visualization techniques. The results highlight the model's effectiveness in identifying fraudulent and non-fraudulent clicks.\n"
   ]
  }
 ],
 "metadata": {
  "kernelspec": {
   "display_name": "base",
   "language": "python",
   "name": "python3"
  },
  "language_info": {
   "codemirror_mode": {
    "name": "ipython",
    "version": 3
   },
   "file_extension": ".py",
   "mimetype": "text/x-python",
   "name": "python",
   "nbconvert_exporter": "python",
   "pygments_lexer": "ipython3",
   "version": "3.12.4"
  }
 },
 "nbformat": 4,
 "nbformat_minor": 2
}
