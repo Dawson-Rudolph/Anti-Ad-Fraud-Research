{
 "cells": [
  {
   "cell_type": "code",
   "execution_count": 13,
   "metadata": {},
   "outputs": [],
   "source": [
    "# Import required libraries\n",
    "import numpy as np\n",
    "import pandas as pd\n",
    "import gc\n",
    "import xgboost as xgb\n",
    "from sklearn.model_selection import train_test_split\n",
    "import matplotlib.pyplot as plt\n",
    "from xgboost import plot_importance\n",
    "# Assuming the training_preprocess.py file is in the same directory\n",
    "# from training_preprocess import dataset"
   ]
  },
  {
   "cell_type": "code",
   "execution_count": null,
   "metadata": {},
   "outputs": [],
   "source": [
    "# using the preprocessed data\n",
    "from data_reprocessing import train_to_df\n",
    "train_file = 'new_train.csv'  \n",
    "dataset = train_to_df(train_file)\n",
    "# Display the first few rows of the dataset to verify the preprocessing\n",
    "dataset.head()"
   ]
  },
  {
   "cell_type": "code",
   "execution_count": null,
   "metadata": {},
   "outputs": [],
   "source": [
    "# Count the number of fraudulent and non-fraudulent clicks\n",
    "fraud_counts = dataset['is_attributed'].value_counts()\n",
    "fraud_percentage = fraud_counts[0] / len(dataset) * 100\n",
    "non_fraud_percentage = fraud_counts[1] / len(dataset) * 100\n",
    "\n",
    "print(f\"Fraudulent clicks: {fraud_counts[0]} ({fraud_percentage:.2f}%)\")\n",
    "print(f\"Non-fraudulent clicks: {fraud_counts[1]} ({non_fraud_percentage:.2f}%)\")"
   ]
  },
  {
   "cell_type": "code",
   "execution_count": null,
   "metadata": {},
   "outputs": [],
   "source": [
    "# Split the dataset into features (X) and target (y)\n",
    "X = dataset.drop(columns=['is_attributed'])  # Features\n",
    "y = dataset['is_attributed']  # Target variable\n",
    "\n",
    "# Split the data into training and validation sets (80% training, 20% validation)\n",
    "X_train, X_valid, y_train, y_valid = train_test_split(X, y, test_size=0.2, random_state=42)\n",
    "\n",
    "# Display the shape of training and validation sets\n",
    "print(\"Training data shape: \", X_train.shape)\n",
    "print(\"Validation data shape: \", X_valid.shape)"
   ]
  },
  {
   "cell_type": "code",
   "execution_count": 5,
   "metadata": {},
   "outputs": [],
   "source": [
    "# Define the parameters for the XGBoost model\n",
    "params = {\n",
    "    'eta': 0.3,  # Learning rate; faster training, potential overfitting risk\n",
    "    'tree_method': 'hist',  # Faster tree-building for large datasets\n",
    "    'max_depth': 6,  # Limits tree depth to prevent overfitting\n",
    "    'subsample': 0.9,  # Uses 90% of data per tree to improve generalization\n",
    "    'colsample_bytree': 0.7,  # Uses 70% of features to reduce overfitting\n",
    "    'objective': 'binary:logistic',  # Binary classification (fraud detection)\n",
    "    'eval_metric': 'auc',  # AUC metric for imbalanced data performance\n",
    "    'scale_pos_weight': 9,  # Increases weight for minority class (real clicks)\n",
    "    'nthread': 8,  # Parallel training for faster computation\n",
    "    'random_state': 42  # Ensures reproducibility of results\n",
    "}\n"
   ]
  },
  {
   "cell_type": "code",
   "execution_count": null,
   "metadata": {},
   "outputs": [],
   "source": [
    "# Convert the training and validation datasets to DMatrix format (optimized for XGBoost)\n",
    "dtrain = xgb.DMatrix(X_train, label=y_train)\n",
    "dvalid = xgb.DMatrix(X_valid, label=y_valid)\n",
    "\n",
    "# Train the model with early stopping\n",
    "watchlist = [(dtrain, 'train'), (dvalid, 'valid')]\n",
    "model = xgb.train(params, dtrain, num_boost_round=100, evals=watchlist, early_stopping_rounds=10, verbose_eval=10)\n",
    "\n",
    "# Display the best iteration\n",
    "print(f\"Best iteration: {model.best_iteration}\")\n",
    "\n",
    "# Plot feature importance to see the most significant features\n",
    "plot_importance(model)\n",
    "plt.show()"
   ]
  },
  {
   "cell_type": "code",
   "execution_count": null,
   "metadata": {},
   "outputs": [],
   "source": [
    "# Predict on the validation set\n",
    "if hasattr(model, 'best_ntree_limit'):\n",
    "    # Use best_ntree_limit if early stopping is applied\n",
    "    y_pred = model.predict(dvalid, ntree_limit=model.best_ntree_limit)\n",
    "else:\n",
    "    # Use all trees if early stopping is not applied\n",
    "    y_pred = model.predict(dvalid)\n",
    "\n",
    "# Save the trained model to a file\n",
    "model.save_model('xgboost_model.json')\n",
    "\n",
    "# Display the first few predictions\n",
    "print(y_pred[:10])\n"
   ]
  }
 ],
 "metadata": {
  "kernelspec": {
   "display_name": "base",
   "language": "python",
   "name": "python3"
  },
  "language_info": {
   "codemirror_mode": {
    "name": "ipython",
    "version": 3
   },
   "file_extension": ".py",
   "mimetype": "text/x-python",
   "name": "python",
   "nbconvert_exporter": "python",
   "pygments_lexer": "ipython3",
   "version": "3.12.4"
  }
 },
 "nbformat": 4,
 "nbformat_minor": 2
}
