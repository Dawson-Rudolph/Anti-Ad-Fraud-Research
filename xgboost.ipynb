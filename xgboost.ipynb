{
 "cells": [
  {
   "cell_type": "code",
   "execution_count": 1,
   "metadata": {},
   "outputs": [],
   "source": [
    "# Import required libraries\n",
    "import numpy as np\n",
    "import pandas as pd\n",
    "import gc\n",
    "import xgboost as xgb\n",
    "from sklearn.model_selection import train_test_split\n",
    "import matplotlib.pyplot as plt\n",
    "from xgboost import plot_importance\n",
    "# Assuming the training_preprocess.py file is in the same directory\n",
    "from training_preprocess import dataset"
   ]
  },
  {
   "cell_type": "code",
   "execution_count": 2,
   "metadata": {},
   "outputs": [
    {
     "data": {
      "text/html": [
       "<div>\n",
       "<style scoped>\n",
       "    .dataframe tbody tr th:only-of-type {\n",
       "        vertical-align: middle;\n",
       "    }\n",
       "\n",
       "    .dataframe tbody tr th {\n",
       "        vertical-align: top;\n",
       "    }\n",
       "\n",
       "    .dataframe thead th {\n",
       "        text-align: right;\n",
       "    }\n",
       "</style>\n",
       "<table border=\"1\" class=\"dataframe\">\n",
       "  <thead>\n",
       "    <tr style=\"text-align: right;\">\n",
       "      <th></th>\n",
       "      <th>ip</th>\n",
       "      <th>app</th>\n",
       "      <th>device</th>\n",
       "      <th>os</th>\n",
       "      <th>channel</th>\n",
       "      <th>is_attributed</th>\n",
       "      <th>day</th>\n",
       "      <th>hour</th>\n",
       "      <th>minute</th>\n",
       "      <th>second</th>\n",
       "    </tr>\n",
       "  </thead>\n",
       "  <tbody>\n",
       "    <tr>\n",
       "      <th>0</th>\n",
       "      <td>87540</td>\n",
       "      <td>12</td>\n",
       "      <td>1</td>\n",
       "      <td>13</td>\n",
       "      <td>497</td>\n",
       "      <td>0</td>\n",
       "      <td>7</td>\n",
       "      <td>9</td>\n",
       "      <td>30</td>\n",
       "      <td>38</td>\n",
       "    </tr>\n",
       "    <tr>\n",
       "      <th>1</th>\n",
       "      <td>105560</td>\n",
       "      <td>25</td>\n",
       "      <td>1</td>\n",
       "      <td>17</td>\n",
       "      <td>259</td>\n",
       "      <td>0</td>\n",
       "      <td>7</td>\n",
       "      <td>13</td>\n",
       "      <td>40</td>\n",
       "      <td>27</td>\n",
       "    </tr>\n",
       "    <tr>\n",
       "      <th>2</th>\n",
       "      <td>101424</td>\n",
       "      <td>12</td>\n",
       "      <td>1</td>\n",
       "      <td>19</td>\n",
       "      <td>212</td>\n",
       "      <td>0</td>\n",
       "      <td>7</td>\n",
       "      <td>18</td>\n",
       "      <td>5</td>\n",
       "      <td>24</td>\n",
       "    </tr>\n",
       "    <tr>\n",
       "      <th>3</th>\n",
       "      <td>94584</td>\n",
       "      <td>13</td>\n",
       "      <td>1</td>\n",
       "      <td>13</td>\n",
       "      <td>477</td>\n",
       "      <td>0</td>\n",
       "      <td>7</td>\n",
       "      <td>4</td>\n",
       "      <td>58</td>\n",
       "      <td>8</td>\n",
       "    </tr>\n",
       "    <tr>\n",
       "      <th>4</th>\n",
       "      <td>68413</td>\n",
       "      <td>12</td>\n",
       "      <td>1</td>\n",
       "      <td>1</td>\n",
       "      <td>178</td>\n",
       "      <td>0</td>\n",
       "      <td>9</td>\n",
       "      <td>9</td>\n",
       "      <td>0</td>\n",
       "      <td>9</td>\n",
       "    </tr>\n",
       "  </tbody>\n",
       "</table>\n",
       "</div>"
      ],
      "text/plain": [
       "       ip  app  device  os  channel  is_attributed  day  hour  minute  second\n",
       "0   87540   12       1  13      497              0    7     9      30      38\n",
       "1  105560   25       1  17      259              0    7    13      40      27\n",
       "2  101424   12       1  19      212              0    7    18       5      24\n",
       "3   94584   13       1  13      477              0    7     4      58       8\n",
       "4   68413   12       1   1      178              0    9     9       0       9"
      ]
     },
     "execution_count": 2,
     "metadata": {},
     "output_type": "execute_result"
    }
   ],
   "source": [
    "# Display the first few rows of the dataset to verify the preprocessing\n",
    "dataset.head()"
   ]
  },
  {
   "cell_type": "code",
   "execution_count": 3,
   "metadata": {},
   "outputs": [
    {
     "name": "stdout",
     "output_type": "stream",
     "text": [
      "Fraudulent clicks: 99773 (99.77%)\n",
      "Non-fraudulent clicks: 227 (0.23%)\n"
     ]
    }
   ],
   "source": [
    "# Count the number of fraudulent and non-fraudulent clicks\n",
    "fraud_counts = dataset['is_attributed'].value_counts()\n",
    "fraud_percentage = fraud_counts[0] / len(dataset) * 100\n",
    "non_fraud_percentage = fraud_counts[1] / len(dataset) * 100\n",
    "\n",
    "print(f\"Fraudulent clicks: {fraud_counts[0]} ({fraud_percentage:.2f}%)\")\n",
    "print(f\"Non-fraudulent clicks: {fraud_counts[1]} ({non_fraud_percentage:.2f}%)\")"
   ]
  },
  {
   "cell_type": "code",
   "execution_count": 4,
   "metadata": {},
   "outputs": [
    {
     "name": "stdout",
     "output_type": "stream",
     "text": [
      "Training data shape:  (80000, 9)\n",
      "Validation data shape:  (20000, 9)\n"
     ]
    }
   ],
   "source": [
    "# Split the dataset into features (X) and target (y)\n",
    "X = dataset.drop(columns=['is_attributed'])  # Features\n",
    "y = dataset['is_attributed']  # Target variable\n",
    "\n",
    "# Split the data into training and validation sets (80% training, 20% validation)\n",
    "X_train, X_valid, y_train, y_valid = train_test_split(X, y, test_size=0.2, random_state=42)\n",
    "\n",
    "# Display the shape of training and validation sets\n",
    "print(\"Training data shape: \", X_train.shape)\n",
    "print(\"Validation data shape: \", X_valid.shape)"
   ]
  },
  {
   "cell_type": "code",
   "execution_count": 5,
   "metadata": {},
   "outputs": [],
   "source": [
    "# Define the parameters for the XGBoost model\n",
    "params = {\n",
    "    'eta': 0.3,  # Learning rate; faster training, potential overfitting risk\n",
    "    'tree_method': 'hist',  # Faster tree-building for large datasets\n",
    "    'max_depth': 6,  # Limits tree depth to prevent overfitting\n",
    "    'subsample': 0.9,  # Uses 90% of data per tree to improve generalization\n",
    "    'colsample_bytree': 0.7,  # Uses 70% of features to reduce overfitting\n",
    "    'objective': 'binary:logistic',  # Binary classification (fraud detection)\n",
    "    'eval_metric': 'auc',  # AUC metric for imbalanced data performance\n",
    "    'scale_pos_weight': 9,  # Increases weight for minority class (real clicks)\n",
    "    'nthread': 8,  # Parallel training for faster computation\n",
    "    'random_state': 42  # Ensures reproducibility of results\n",
    "}\n"
   ]
  },
  {
   "cell_type": "code",
   "execution_count": 6,
   "metadata": {},
   "outputs": [
    {
     "name": "stdout",
     "output_type": "stream",
     "text": [
      "[0]\ttrain-auc:0.92503\tvalid-auc:0.89303\n",
      "[10]\ttrain-auc:0.99167\tvalid-auc:0.97865\n",
      "[20]\ttrain-auc:0.99930\tvalid-auc:0.97873\n",
      "[24]\ttrain-auc:0.99983\tvalid-auc:0.97643\n",
      "Best iteration: 14\n"
     ]
    },
    {
     "data": {
      "image/png": "[encoded data removed]",
      "text/plain": [
       "<Figure size 640x480 with 1 Axes>"
      ]
     },
     "metadata": {},
     "output_type": "display_data"
    }
   ],
   "source": [
    "# Convert the training and validation datasets to DMatrix format (optimized for XGBoost)\n",
    "dtrain = xgb.DMatrix(X_train, label=y_train)\n",
    "dvalid = xgb.DMatrix(X_valid, label=y_valid)\n",
    "\n",
    "# Train the model with early stopping\n",
    "watchlist = [(dtrain, 'train'), (dvalid, 'valid')]\n",
    "model = xgb.train(params, dtrain, num_boost_round=100, evals=watchlist, early_stopping_rounds=10, verbose_eval=10)\n",
    "\n",
    "# Display the best iteration\n",
    "print(f\"Best iteration: {model.best_iteration}\")\n",
    "\n",
    "# Plot feature importance to see the most significant features\n",
    "plot_importance(model)\n",
    "plt.show()"
   ]
  },
  {
   "cell_type": "code",
   "execution_count": 7,
   "metadata": {},
   "outputs": [
    {
     "name": "stdout",
     "output_type": "stream",
     "text": [
      "[0.0009294  0.00022135 0.00039538 0.00081644 0.00084685 0.00091965\n",
      " 0.00078884 0.00294066 0.00138429 0.00081078]\n"
     ]
    }
   ],
   "source": [
    "# Predict on the validation set\n",
    "if hasattr(model, 'best_ntree_limit'):\n",
    "    # Use best_ntree_limit if early stopping is applied\n",
    "    y_pred = model.predict(dvalid, ntree_limit=model.best_ntree_limit)\n",
    "else:\n",
    "    # Use all trees if early stopping is not applied\n",
    "    y_pred = model.predict(dvalid)\n",
    "\n",
    "# Save the trained model to a file\n",
    "model.save_model('xgboost_model.json')\n",
    "\n",
    "# Display the first few predictions\n",
    "print(y_pred[:10])\n"
   ]
  }
 ],
 "metadata": {
  "kernelspec": {
   "display_name": "base",
   "language": "python",
   "name": "python3"
  },
  "language_info": {
   "codemirror_mode": {
    "name": "ipython",
    "version": 3
   },
   "file_extension": ".py",
   "mimetype": "text/x-python",
   "name": "python",
   "nbconvert_exporter": "python",
   "pygments_lexer": "ipython3",
   "version": "3.12.4"
  }
 },
 "nbformat": 4,
 "nbformat_minor": 2
}
