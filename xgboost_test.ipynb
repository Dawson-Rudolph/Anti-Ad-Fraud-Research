{
 "cells": [
  {
   "cell_type": "markdown",
   "metadata": {},
   "source": [
    "# Fraud Detection Model Testing and Evaluation\n",
    "\n",
    "This notebook loads a trained XGBoost model to predict fraudulent ad clicks on a test dataset. It evaluates the model's performance using standard metrics and visualizes results, including a confusion matrix.\n"
   ]
  },
  {
   "cell_type": "markdown",
   "metadata": {},
   "source": [
    "## 1. Importing Necessary Libraries\n",
    "Required libraries are imported for:\n",
    "- **Data processing**: pandas\n",
    "- **Model loading and prediction**: xgboost\n",
    "- **Feature scaling**: StandardScaler (from scikit-learn)\n",
    "- **Visualization**: matplotlib\n"
   ]
  },
  {
   "cell_type": "markdown",
   "metadata": {},
   "source": [
    "## 2. Loading the Pretrained Model\n",
    "The saved XGBoost model (`xgboost_model.json`) is loaded using XGBoost's Booster class to make predictions on the test dataset.\n"
   ]
  },
  {
   "cell_type": "code",
   "execution_count": null,
   "metadata": {},
   "outputs": [],
   "source": [
    "# Import necessary libraries\n",
    "import pandas as pd\n",
    "import xgboost as xgb\n",
    "from sklearn.preprocessing import StandardScaler\n",
    "#from testing_preprocessing import dataset\n",
    "\n",
    "# Load the saved XGBoost model from JSON file\n",
    "model = xgb.Booster()\n",
    "model.load_model('xgboost_model.json')\n",
    "print(\"Loaded XGBoost model from 'xgboost_model.json'.\")\n"
   ]
  },
  {
   "cell_type": "markdown",
   "metadata": {},
   "source": [
    "## 3. Loading and Verifying Test Data\n",
    "The preprocessed test dataset is loaded using the `test_to_df` function, and the first few rows are displayed for verification.\n"
   ]
  },
  {
   "cell_type": "code",
   "execution_count": null,
   "metadata": {},
   "outputs": [],
   "source": [
    "# using the preprocessed data\n",
    "from data_reprocessing import test_to_df\n",
    "dataset = 'new_test.csv'  \n",
    "test_data = test_to_df(dataset)\n",
    "\n",
    "# Display the first few rows of the dataset to verify the preprocessing\n",
    "print(test_data.head())\n"
   ]
  },
  {
   "cell_type": "markdown",
   "metadata": {},
   "source": [
    "## 4. Preparing Test Data\n",
    "- `X_test`: Contains all feature columns except the target (`is_attributed`).\n",
    "- `y_test`: The true labels representing fraudulent (0) and non-fraudulent (1) clicks.\n",
    "The test data is converted to DMatrix format for optimized prediction with XGBoost.\n"
   ]
  },
  {
   "cell_type": "markdown",
   "metadata": {},
   "source": [
    "## 5. Generating Predictions\n",
    "The model predicts:\n",
    "1. Probabilities of each class (`y_test_pred_prob`).\n",
    "2. Binary classifications (`y_test_pred_class`) based on a threshold of 0.5.\n"
   ]
  },
  {
   "cell_type": "code",
   "execution_count": null,
   "metadata": {},
   "outputs": [],
   "source": [
    "# Separate features and labels from the test data\n",
    "X_test = test_data.drop(columns=['is_attributed'])  # Features\n",
    "y_test = test_data['is_attributed']  # True labels\n",
    "\n",
    "# Convert the test set to DMatrix format for XGBoost\n",
    "dtest = xgb.DMatrix(X_test)\n",
    "\n",
    "# Make predictions on the test set using the loaded model\n",
    "y_test_pred_prob = model.predict(dtest)\n",
    "\n",
    "# Convert probabilities to binary class predictions (0 = fraudulent, 1 = non-fraudulent)\n",
    "y_test_pred_class = (y_test_pred_prob > 0.5).astype(int)\n"
   ]
  },
  {
   "cell_type": "markdown",
   "metadata": {},
   "source": [
    "## 6. Evaluating Model Performance\n",
    "Performance metrics are calculated for fraud detection:\n",
    "- **Accuracy**: Overall correctness of predictions.\n",
    "- **Precision**: Correctly identified fraudulent clicks as a fraction of total predicted frauds.\n",
    "- **Recall**: Fraction of actual frauds identified correctly.\n",
    "- **F1-Score**: Harmonic mean of precision and recall.\n",
    "- **AUC-ROC**: Area under the ROC curve for classification effectiveness.\n"
   ]
  },
  {
   "cell_type": "code",
   "execution_count": null,
   "metadata": {},
   "outputs": [],
   "source": [
    "from sklearn.metrics import accuracy_score, precision_score, recall_score, f1_score, roc_auc_score\n",
    "\n",
    "# Calculate performance metrics on the test set\n",
    "accuracy = accuracy_score(y_test, y_test_pred_class)\n",
    "precision = precision_score(y_test, y_test_pred_class, pos_label=0)  # 0 = fraudulent\n",
    "recall = recall_score(y_test, y_test_pred_class, pos_label=0)  # 0 = fraudulent\n",
    "f1 = f1_score(y_test, y_test_pred_class, pos_label=0)  # 0 = fraudulent\n",
    "auc_roc = roc_auc_score(y_test, y_test_pred_prob)\n",
    "\n",
    "# Display evaluation results\n",
    "print(f\"Test Set Accuracy: {accuracy:.4f}\")\n",
    "print(f\"Test Set Precision (fraud detection): {precision:.4f}\")\n",
    "print(f\"Test Set Recall (fraud detection): {recall:.4f}\")\n",
    "print(f\"Test Set F1-Score (fraud detection): {f1:.4f}\")\n",
    "print(f\"Test Set AUC-ROC: {auc_roc:.4f}\")\n"
   ]
  },
  {
   "cell_type": "markdown",
   "metadata": {},
   "source": [
    "## 7. Visualizing Confusion Matrix\n",
    "The confusion matrix visualizes:\n",
    "- True Positives (TP), False Positives (FP), True Negatives (TN), and False Negatives (FN).\n",
    "A color-coded matrix is displayed for clear interpretation.\n"
   ]
  },
  {
   "cell_type": "code",
   "execution_count": null,
   "metadata": {},
   "outputs": [],
   "source": [
    "from sklearn.metrics import confusion_matrix, ConfusionMatrixDisplay\n",
    "import matplotlib.pyplot as plt\n",
    "\n",
    "# Calculate the confusion matrix\n",
    "cm = confusion_matrix(y_test, y_test_pred_class)\n",
    "\n",
    "# Plot the confusion matrix\n",
    "disp = ConfusionMatrixDisplay(confusion_matrix=cm, display_labels=['Fraud (0)', 'Non-Fraud (1)'])\n",
    "disp.plot(cmap='Blues')\n",
    "plt.title('Confusion Matrix on Test Set')\n",
    "plt.show()\n"
   ]
  },
  {
   "cell_type": "markdown",
   "metadata": {},
   "source": [
    "## Conclusion\n",
    "This notebook evaluates the performance of a trained XGBoost model for fraud detection. The results demonstrate the model's ability to identify fraudulent clicks accurately, with performance metrics and visualizations providing insights into its effectiveness.\n"
   ]
  }
 ],
 "metadata": {
  "kernelspec": {
   "display_name": "base",
   "language": "python",
   "name": "python3"
  },
  "language_info": {
   "codemirror_mode": {
    "name": "ipython",
    "version": 3
   },
   "file_extension": ".py",
   "mimetype": "text/x-python",
   "name": "python",
   "nbconvert_exporter": "python",
   "pygments_lexer": "ipython3",
   "version": "3.12.4"
  }
 },
 "nbformat": 4,
 "nbformat_minor": 2
}
