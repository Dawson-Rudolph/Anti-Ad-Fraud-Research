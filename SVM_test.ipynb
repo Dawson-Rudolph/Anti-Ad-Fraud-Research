{
 "cells": [
  {
   "cell_type": "code",
   "execution_count": null,
   "metadata": {},
   "outputs": [],
   "source": [
    "# Import necessary libraries\n",
    "import pandas as pd\n",
    "import joblib\n",
    "from sklearn.svm import SVC \n",
    "from sklearn.preprocessing import StandardScaler\n",
    "from sklearn.metrics import accuracy_score, precision_score, recall_score, f1_score, roc_auc_score, confusion_matrix, ConfusionMatrixDisplay\n",
    "import matplotlib.pyplot as plt\n",
    "from sklearn.metrics import roc_curve, auc\n",
    "\n",
    "\n",
    "\n",
    "# Load the preprocessed data\n",
    "from data_reprocessing import test_to_df\n",
    "dataset = 'new_test.csv'\n",
    "test_data = test_to_df(dataset)\n",
    "test_data = dataset\n",
    "# Display the first few rows of the dataset to verify the preprocessing\n",
    "print(test_data.head())\n",
    "\n"
   ]
  },
  {
   "cell_type": "code",
   "execution_count": 16,
   "metadata": {},
   "outputs": [],
   "source": [
    "# Separate features and labels from the test data\n",
    "X_test = test_data.drop(columns=['is_attributed'])  # Features\n",
    "y_test = test_data['is_attributed']  # True labels\n",
    "\n",
    "# Standardize the features (SVM works better with scaled data)\n",
    "scaler = StandardScaler()\n",
    "X_test_scaled = scaler.fit_transform(X_test)\n"
   ]
  },
  {
   "cell_type": "code",
   "execution_count": null,
   "metadata": {},
   "outputs": [],
   "source": [
    "# Load the trained SVM model from the joblib file\n",
    "svm_model = joblib.load('svm_model.joblib')\n",
    "print(\"Loaded trained SVM model from 'svm_model.joblib'.\")"
   ]
  },
  {
   "cell_type": "code",
   "execution_count": null,
   "metadata": {},
   "outputs": [],
   "source": [
    "# Make predictions on the test set using the reconstructed SVM model\n",
    "y_test_pred_class = svm_model.predict(X_test_scaled)\n",
    "\n",
    "# Calculate AUC-ROC using decision function scores (for SVMs)\n",
    "y_test_decision_scores = svm_model.decision_function(X_test_scaled)\n",
    "auc_roc = roc_auc_score(y_test, y_test_decision_scores)\n",
    "print(f\"Test Set AUC-ROC: {auc_roc:.4f}\")\n",
    "\n"
   ]
  },
  {
   "cell_type": "code",
   "execution_count": null,
   "metadata": {},
   "outputs": [],
   "source": [
    "# Get decision scores from the SVM model\n",
    "y_test_decision_scores = svm_model.decision_function(X_test_scaled)\n",
    "\n",
    "\n",
    "# Calculate the ROC curve\n",
    "fpr, tpr, thresholds = roc_curve(y_test, y_test_decision_scores)\n",
    "roc_auc = auc(fpr, tpr)\n",
    "\n",
    "# Plot the ROC curve\n",
    "plt.figure()\n",
    "plt.plot(fpr, tpr, color='darkorange', lw=2, label=f'ROC curve (area = {roc_auc:.2f})')\n",
    "plt.plot([0, 1], [0, 1], color='navy', lw=2, linestyle='--')\n",
    "plt.xlabel('False Positive Rate')\n",
    "plt.ylabel('True Positive Rate')\n",
    "plt.title('Receiver Operating Characteristic (ROC) for SVM')\n",
    "plt.legend(loc='lower right')\n",
    "plt.show()\n"
   ]
  },
  {
   "cell_type": "code",
   "execution_count": null,
   "metadata": {},
   "outputs": [],
   "source": [
    "# Calculate performance metrics on the test set\n",
    "accuracy = accuracy_score(y_test, y_test_pred_class)\n",
    "precision = precision_score(y_test, y_test_pred_class, pos_label=0)  # 0 = fraudulent\n",
    "recall = recall_score(y_test, y_test_pred_class, pos_label=0)  # 0 = fraudulent\n",
    "f1 = f1_score(y_test, y_test_pred_class, pos_label=0)  # 0 = fraudulent\n",
    "\n",
    "# Display evaluation results\n",
    "print(f\"Test Set Accuracy: {accuracy:.4f}\")\n",
    "print(f\"Test Set Precision (fraud detection): {precision:.4f}\")\n",
    "print(f\"Test Set Recall (fraud detection): {recall:.4f}\")\n",
    "print(f\"Test Set F1-Score (fraud detection): {f1:.4f}\")\n",
    "print(f\"Test Set AUC-ROC: {auc_roc:.4f}\")\n"
   ]
  },
  {
   "cell_type": "code",
   "execution_count": null,
   "metadata": {},
   "outputs": [],
   "source": [
    "# Calculate the confusion matrix\n",
    "cm = confusion_matrix(y_test, y_test_pred_class)\n",
    "\n",
    "# Plot the confusion matrix\n",
    "disp = ConfusionMatrixDisplay(confusion_matrix=cm, display_labels=['Fraud (0)', 'Non-Fraud (1)'])\n",
    "disp.plot(cmap='Blues')\n",
    "plt.title('Confusion Matrix on Test Set')\n",
    "plt.show()\n"
   ]
  }
 ],
 "metadata": {
  "kernelspec": {
   "display_name": "base",
   "language": "python",
   "name": "python3"
  },
  "language_info": {
   "codemirror_mode": {
    "name": "ipython",
    "version": 3
   },
   "file_extension": ".py",
   "mimetype": "text/x-python",
   "name": "python",
   "nbconvert_exporter": "python",
   "pygments_lexer": "ipython3",
   "version": "3.12.4"
  }
 },
 "nbformat": 4,
 "nbformat_minor": 2
}
