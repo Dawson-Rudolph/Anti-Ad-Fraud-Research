{
 "cells": [
  {
   "cell_type": "markdown",
   "metadata": {},
   "source": [
    "# Fraud Detection using Gaussian Naive Bayes\n",
    "\n",
    "This notebook implements and evaluates a Gaussian Naive Bayes model for fraud detection. It includes data preprocessing, training, and model evaluation using standard classification metrics.\n"
   ]
  },
  {
   "cell_type": "markdown",
   "metadata": {},
   "source": [
    "## 1. Importing Required Libraries\n",
    "Required libraries for:\n",
    "- **Data manipulation**: pandas, numpy.\n",
    "- **Model training**: GaussianNB (from scikit-learn).\n",
    "- **Evaluation metrics**: confusion matrix, classification report, ROC AUC score, and ROC curve.\n",
    "- **Visualization**: matplotlib.\n",
    "- **Model saving**: joblib.\n"
   ]
  },
  {
   "cell_type": "code",
   "execution_count": null,
   "metadata": {},
   "outputs": [],
   "source": [
    "# Import required libraries\n",
    "import pandas as pd\n",
    "import numpy as np\n",
    "from sklearn.model_selection import train_test_split\n",
    "from sklearn.naive_bayes import GaussianNB\n",
    "from sklearn.metrics import classification_report, confusion_matrix, roc_auc_score, roc_curve\n",
    "import matplotlib.pyplot as plt\n",
    "import joblib  # For saving the model\n"
   ]
  },
  {
   "cell_type": "markdown",
   "metadata": {},
   "source": [
    "## 2. Loading Preprocessed Data\n",
    "The preprocessed training data is loaded using the `train_to_df` function. The first few rows are displayed to verify proper loading.\n"
   ]
  },
  {
   "cell_type": "code",
   "execution_count": null,
   "metadata": {},
   "outputs": [],
   "source": [
    "# using the preprocessed data\n",
    "from data_reprocessing import train_to_df\n",
    "\n",
    "train_file = 'balanced_train.csv'  \n",
    "dataset = train_to_df(train_file)\n",
    "# Display the first few rows of the dataset to verify the preprocessing\n",
    "dataset.head()"
   ]
  },
  {
   "cell_type": "markdown",
   "metadata": {},
   "source": [
    "## 3. Analyzing and Splitting Data\n",
    "- Display the class distribution to check for balance.\n",
    "- Split the dataset into features (`X`) and target (`y`).\n",
    "- Divide the data into training (80%) and validation (20%) sets using stratification to maintain class distribution.\n"
   ]
  },
  {
   "cell_type": "code",
   "execution_count": null,
   "metadata": {},
   "outputs": [],
   "source": [
    "# Count and display the class distribution for fraud detection\n",
    "fraud_counts = dataset['is_attributed'].value_counts()\n",
    "print(f\"Fraudulent clicks: {fraud_counts[1]}\")\n",
    "print(f\"Non-fraudulent clicks: {fraud_counts[0]}\")\n",
    "\n",
    "# Split the dataset into features (X) and target (y)\n",
    "X = dataset.drop('is_attributed', axis=1)  # Features\n",
    "y = dataset['is_attributed']  # Target variable\n",
    "\n",
    "# Split the data into training and validation sets (80% training, 20% validation)\n",
    "X_train, X_val, y_train, y_val = train_test_split(X, y, test_size=0.2, random_state=42, stratify=y)\n",
    "\n",
    "# Display the shape of the training and validation sets\n",
    "print(f\"Training set shape: {X_train.shape}\")\n",
    "print(f\"Validation set shape: {X_val.shape}\")\n"
   ]
  },
  {
   "cell_type": "markdown",
   "metadata": {},
   "source": [
    "## 4. Training the Gaussian Naive Bayes Model\n",
    "The Gaussian Naive Bayes model is initialized and trained using the training data. Training progress is logged.\n"
   ]
  },
  {
   "cell_type": "code",
   "execution_count": null,
   "metadata": {},
   "outputs": [],
   "source": [
    "# Initialize the Gaussian Naive Bayes model\n",
    "nb_model = GaussianNB()\n",
    "\n",
    "print(\"Starting model training...\")\n",
    "\n",
    "# Train the Naive Bayes model\n",
    "nb_model.fit(X_train, y_train)\n",
    "\n",
    "print(\"Model training completed.\")\n"
   ]
  },
  {
   "cell_type": "markdown",
   "metadata": {},
   "source": [
    "## 5. Saving the Trained Model\n",
    "The trained Naive Bayes model is saved as `naive_bayes_model.joblib` using the `joblib` library for future use.\n"
   ]
  },
  {
   "cell_type": "code",
   "execution_count": null,
   "metadata": {},
   "outputs": [],
   "source": [
    "# Save the entire trained model to a file using joblib\n",
    "joblib.dump(nb_model, 'naive_bayes_model.joblib')\n",
    "\n",
    "print(\"Complete model saved as 'naive_bayes_model.joblib'.\")\n"
   ]
  },
  {
   "cell_type": "markdown",
   "metadata": {},
   "source": [
    "## 6. Generating Predictions and Evaluating Model Performance\n",
    "- Predictions are made on the validation set:\n",
    "  - `y_pred`: Predicted class labels.\n",
    "  - `y_pred_proba`: Predicted probabilities for the positive class.\n",
    "- Model performance is evaluated using:\n",
    "  - Confusion Matrix.\n",
    "  - Classification Report (precision, recall, F1-score).\n",
    "  - ROC AUC Score.\n"
   ]
  },
  {
   "cell_type": "code",
   "execution_count": null,
   "metadata": {},
   "outputs": [],
   "source": [
    "# Make predictions on the validation set\n",
    "y_pred = nb_model.predict(X_val)  # Predicted labels\n",
    "y_pred_proba = nb_model.predict_proba(X_val)[:, 1]  # Predicted probabilities for the positive class\n",
    "\n",
    "# Evaluate model performance\n",
    "print(\"\\nConfusion Matrix:\")\n",
    "print(confusion_matrix(y_val, y_pred))\n",
    "\n",
    "print(\"\\nClassification Report:\")\n",
    "print(classification_report(y_val, y_pred))\n",
    "\n",
    "# Calculate and display the ROC AUC score\n",
    "roc_auc = roc_auc_score(y_val, y_pred_proba)\n",
    "print(f\"\\nROC AUC Score: {roc_auc:.2f}\")\n"
   ]
  },
  {
   "cell_type": "markdown",
   "metadata": {},
   "source": [
    "## Conclusion\n",
    "This notebook demonstrates the implementation and evaluation of a Gaussian Naive Bayes model for fraud detection. The results provide insights into the model's performance, which can be improved or deployed as needed.\n"
   ]
  }
 ],
 "metadata": {
  "kernelspec": {
   "display_name": "base",
   "language": "python",
   "name": "python3"
  },
  "language_info": {
   "codemirror_mode": {
    "name": "ipython",
    "version": 3
   },
   "file_extension": ".py",
   "mimetype": "text/x-python",
   "name": "python",
   "nbconvert_exporter": "python",
   "pygments_lexer": "ipython3",
   "version": "3.12.4"
  }
 },
 "nbformat": 4,
 "nbformat_minor": 2
}
