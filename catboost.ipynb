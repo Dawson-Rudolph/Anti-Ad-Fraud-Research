{
 "cells": [
  {
   "cell_type": "markdown",
   "metadata": {},
   "source": [
    "# Fraud Detection Model Training with CatBoost\n",
    "\n",
    "This notebook demonstrates the training and evaluation of a CatBoost model for detecting fraudulent ad clicks. The process includes loading data, splitting it into training and validation sets, training the model, and saving it for future use.\n"
   ]
  },
  {
   "cell_type": "markdown",
   "metadata": {},
   "source": [
    "## 1. Importing Required Libraries\n",
    "Libraries used in this notebook include:\n",
    "- **pandas, numpy**: For data manipulation.\n",
    "- **scikit-learn**: For dataset splitting and evaluation metrics.\n",
    "- **CatBoostClassifier**: To train the CatBoost model.\n"
   ]
  },
  {
   "cell_type": "code",
   "execution_count": 1,
   "metadata": {},
   "outputs": [],
   "source": [
    "# Import required libraries\n",
    "import pandas as pd\n",
    "import numpy as np\n",
    "from sklearn.model_selection import train_test_split\n",
    "from sklearn.metrics import classification_report, confusion_matrix, roc_auc_score\n",
    "from catboost import CatBoostClassifier\n",
    "# import training_preprocess\n",
    "\n"
   ]
  },
  {
   "cell_type": "markdown",
   "metadata": {},
   "source": [
    "## 2. Loading Preprocessed Data\n",
    "The preprocessed dataset is loaded using the `train_to_df` function. The first few rows are displayed to verify the data structure.\n"
   ]
  },
  {
   "cell_type": "code",
   "execution_count": null,
   "metadata": {},
   "outputs": [],
   "source": [
    "# using the preprocessed data\n",
    "from data_reprocessing import train_to_df\n",
    "train_file = 'new_train.csv'  \n",
    "dataset = train_to_df(train_file)\n",
    "# Display the first few rows of the dataset to verify the preprocessing\n",
    "dataset.head()"
   ]
  },
  {
   "cell_type": "markdown",
   "metadata": {},
   "source": [
    "## 3. Splitting the Data\n",
    "- **Features (`X`)**: All columns except the target variable (`is_attributed`).\n",
    "- **Target (`y`)**: Represents fraud detection labels (1: fraud, 0: non-fraud).\n",
    "- The dataset is split into 80% training and 20% validation sets while maintaining class distribution using `stratify`.\n"
   ]
  },
  {
   "cell_type": "code",
   "execution_count": null,
   "metadata": {},
   "outputs": [],
   "source": [
    "# Split the data into features and target\n",
    "X = dataset.drop('is_attributed', axis=1)\n",
    "y = dataset['is_attributed']\n",
    "\n",
    "# Split the dataset into 80% training and 20% validation\n",
    "X_train, X_val, y_train, y_val = train_test_split(X, y, test_size=0.2, random_state=42, stratify=y)\n",
    "\n",
    "print(\"Data split into training and validation sets.\")\n",
    "print(f\"Training set shape: {X_train.shape}\")\n",
    "print(f\"Validation set shape: {X_val.shape}\")\n"
   ]
  },
  {
   "cell_type": "markdown",
   "metadata": {},
   "source": [
    "## 4. Initializing CatBoost Classifier\n",
    "The CatBoost model is configured with the following parameters:\n",
    "- **iterations**: Number of boosting iterations.\n",
    "- **learning_rate**: Step size for each iteration.\n",
    "- **depth**: Tree depth for splitting.\n",
    "- **eval_metric**: AUC (Area Under Curve) to optimize for imbalanced classification.\n",
    "- **random_seed**: Ensures reproducibility.\n"
   ]
  },
  {
   "cell_type": "markdown",
   "metadata": {},
   "source": [
    "## 5. Training the CatBoost Model\n",
    "The model is trained using the training data (`X_train`, `y_train`) and validated on the validation set (`X_val`, `y_val`). Early stopping is used to prevent overfitting after 50 rounds of no improvement.\n"
   ]
  },
  {
   "cell_type": "markdown",
   "metadata": {},
   "source": [
    "## 6. Saving the Trained Model\n",
    "The trained CatBoost model is saved as a JSON file (`catboost_model.json`). This allows the model to be reused for future predictions or analysis.\n"
   ]
  },
  {
   "cell_type": "code",
   "execution_count": null,
   "metadata": {},
   "outputs": [],
   "source": [
    "# Initialize CatBoost Classifier\n",
    "catboost_model = CatBoostClassifier(\n",
    "    iterations=1000,\n",
    "    learning_rate=0.1,\n",
    "    depth=6,\n",
    "    eval_metric='AUC',\n",
    "    random_seed=42,\n",
    "    verbose=100\n",
    ")\n",
    "\n",
    "print(\"Starting model training...\")\n",
    "\n",
    "# Train the CatBoost model\n",
    "catboost_model.fit(X_train, y_train, eval_set=(X_val, y_val), early_stopping_rounds=50)\n",
    "\n",
    "print(\"Model training completed.\")\n",
    "\n",
    "# Save the trained CatBoost model to a JSON file\n",
    "catboost_model.save_model('catboost_model.json', format='json')\n",
    "\n",
    "print(\"Model saved as 'catboost_model.json'.\")\n"
   ]
  },
  {
   "cell_type": "markdown",
   "metadata": {},
   "source": [
    "## Conclusion\n",
    "This notebook successfully demonstrates the training and saving of a CatBoost model for fraud detection. The saved model can be used for further evaluation or deployment.\n"
   ]
  }
 ],
 "metadata": {
  "kernelspec": {
   "display_name": "base",
   "language": "python",
   "name": "python3"
  },
  "language_info": {
   "codemirror_mode": {
    "name": "ipython",
    "version": 3
   },
   "file_extension": ".py",
   "mimetype": "text/x-python",
   "name": "python",
   "nbconvert_exporter": "python",
   "pygments_lexer": "ipython3",
   "version": "3.12.4"
  }
 },
 "nbformat": 4,
 "nbformat_minor": 2
}
