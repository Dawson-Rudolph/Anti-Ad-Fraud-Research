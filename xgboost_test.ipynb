{
 "cells": [
  {
   "cell_type": "code",
   "execution_count": null,
   "metadata": {},
   "outputs": [],
   "source": [
    "# Import necessary libraries\n",
    "import pandas as pd\n",
    "import xgboost as xgb\n",
    "from sklearn.preprocessing import StandardScaler\n",
    "from testing_preprocessing import dataset\n",
    "\n",
    "# Load the saved XGBoost model from JSON file\n",
    "model = xgb.Booster()\n",
    "model.load_model('xgboost_model.json')\n",
    "print(\"Loaded XGBoost model from 'xgboost_model.json'.\")\n"
   ]
  },
  {
   "cell_type": "code",
   "execution_count": null,
   "metadata": {},
   "outputs": [],
   "source": [
    "# Load the separate test set \n",
    "test_data = dataset\n",
    "\n",
    "# Display the first few rows of the test set\n",
    "print(test_data.head())\n"
   ]
  },
  {
   "cell_type": "code",
   "execution_count": null,
   "metadata": {},
   "outputs": [],
   "source": [
    "# Separate features and labels from the test data\n",
    "X_test = test_data.drop(columns=['is_attributed'])  # Features\n",
    "y_test = test_data['is_attributed']  # True labels\n",
    "\n",
    "# Convert the test set to DMatrix format for XGBoost\n",
    "dtest = xgb.DMatrix(X_test)\n",
    "\n",
    "# Make predictions on the test set using the loaded model\n",
    "y_test_pred_prob = model.predict(dtest)\n",
    "\n",
    "# Convert probabilities to binary class predictions (0 = fraudulent, 1 = non-fraudulent)\n",
    "y_test_pred_class = (y_test_pred_prob > 0.5).astype(int)\n"
   ]
  },
  {
   "cell_type": "code",
   "execution_count": null,
   "metadata": {},
   "outputs": [],
   "source": [
    "from sklearn.metrics import accuracy_score, precision_score, recall_score, f1_score, roc_auc_score\n",
    "\n",
    "# Calculate performance metrics on the test set\n",
    "accuracy = accuracy_score(y_test, y_test_pred_class)\n",
    "precision = precision_score(y_test, y_test_pred_class, pos_label=0)  # 0 = fraudulent\n",
    "recall = recall_score(y_test, y_test_pred_class, pos_label=0)  # 0 = fraudulent\n",
    "f1 = f1_score(y_test, y_test_pred_class, pos_label=0)  # 0 = fraudulent\n",
    "auc_roc = roc_auc_score(y_test, y_test_pred_prob)\n",
    "\n",
    "# Display evaluation results\n",
    "print(f\"Test Set Accuracy: {accuracy:.4f}\")\n",
    "print(f\"Test Set Precision (fraud detection): {precision:.4f}\")\n",
    "print(f\"Test Set Recall (fraud detection): {recall:.4f}\")\n",
    "print(f\"Test Set F1-Score (fraud detection): {f1:.4f}\")\n",
    "print(f\"Test Set AUC-ROC: {auc_roc:.4f}\")\n"
   ]
  },
  {
   "cell_type": "code",
   "execution_count": null,
   "metadata": {},
   "outputs": [],
   "source": [
    "from sklearn.metrics import confusion_matrix, ConfusionMatrixDisplay\n",
    "import matplotlib.pyplot as plt\n",
    "\n",
    "# Calculate the confusion matrix\n",
    "cm = confusion_matrix(y_test, y_test_pred_class)\n",
    "\n",
    "# Plot the confusion matrix\n",
    "disp = ConfusionMatrixDisplay(confusion_matrix=cm, display_labels=['Fraud (0)', 'Non-Fraud (1)'])\n",
    "disp.plot(cmap='Blues')\n",
    "plt.title('Confusion Matrix on Test Set')\n",
    "plt.show()\n"
   ]
  }
 ],
 "metadata": {
  "kernelspec": {
   "display_name": "base",
   "language": "python",
   "name": "python3"
  },
  "language_info": {
   "codemirror_mode": {
    "name": "ipython",
    "version": 3
   },
   "file_extension": ".py",
   "mimetype": "text/x-python",
   "name": "python",
   "nbconvert_exporter": "python",
   "pygments_lexer": "ipython3",
   "version": "3.12.4"
  }
 },
 "nbformat": 4,
 "nbformat_minor": 2
}
